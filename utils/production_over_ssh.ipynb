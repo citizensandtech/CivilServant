{
"cells": [
  {
   "cell_type": "markdown",
   "metadata": {},
   "source": [
    "## Getting 10,000 urls from DMCA-COX\n",
    "-  ssh -N dmca@cox.media.mit.edu -L 3310:cox.media.mit.edu:3306"
   ]
  },
  {
   "cell_type": "code",
   "execution_count": 4,
   "metadata": {
    "collapsed": false
   },
   "outputs": [],
   "source": [
    "from utils.common import DbEngine\n",
    "import os\n",
    "import inspect\n",
    "from app.models import TwitterStatus, TwitterUser\n",
    "import json\n",
    "from sqlalchemy.sql.expression import func as sqlfunc\n",
    "from functools import reduce\n",
    "\n",
    "BASE_DIR = os.path.join(os.path.dirname(os.path.abspath(inspect.getfile(inspect.currentframe()))), \"..\")\n",
    "ENV = 'production_over_ssh'\n",
    "db_session = DbEngine(os.path.join(BASE_DIR, \"config\") + \"/{env}.json\".format(env=ENV)).new_session()\n"
   ]
  },
  {
   "cell_type": "code",
   "execution_count": null,
   "metadata": {},
   "outputs": [],
   "source": [
    "user_statuses = db_session.query(TwitterUser).all()"
   ]
  }
 ],
 "metadata": {
  "kernelspec": {
   "display_name": "Python 3",
   "language": "python",
   "name": "python3"
  },
  "language_info": {
   "codemirror_mode": {
    "name": "ipython",
    "version": 3
   },
   "file_extension": ".py",
   "mimetype": "text/x-python",
   "name": "python",
   "nbconvert_exporter": "python",
   "pygments_lexer": "ipython3",
   "version": "3.6.5"
  }
 },
 "nbformat": 4,
 "nbformat_minor": 1
}
